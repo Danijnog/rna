{
 "cells": [
  {
   "cell_type": "markdown",
   "id": "8ba26892-e628-4a76-899c-d172350a1dfa",
   "metadata": {},
   "source": [
    "# Trabalho final de Redes Neurais Artificiais"
   ]
  },
  {
   "cell_type": "markdown",
   "id": "0345fc17-61af-4b75-a99e-ee7215b06cf6",
   "metadata": {},
   "source": [
    "## Objetivos\n",
    "O objetivo do trabalho é resolver um problema de **Reconhecimento de Padrões** com base em um conjunto de dados disponiblizados pelo professor, tendo como inspiração a base de dados MNIST. Portanto, o foco é treinar um modelo que seja capaz de reconhecer os digítos manuscritos de 0 a 9 que contém nos conjuntos de treinamento e teste, detectando as imagens digitalizadas dos dígitos.\n",
    "\n",
    "**trainReduzido.csv** - conjunto de dados de treinamento da rede.\n",
    "\n",
    "**validacao.csv** - conjunto de dados para testar a rede no final de acordo com a previsão realizada.\n",
    "\n",
    "Os arquivos de dados trainReduzido.csv e validacao.csv contêm imagens em escala de cinza de dígitos desenhados à mão, de zero a nove.\n",
    "\n",
    "\n",
    "Cada imagem tem 28 pixels de altura e 28 pixels de largura, para um total de 784 pixels no total. Cada pixel tem um único valor de pixel associado a ele, indicando a claridade ou escuridão desse pixel, com números mais altos significando mais escuro. Este valor de pixel é um número inteiro entre 0 e 255, inclusive.\n",
    "\n",
    "O conjunto de dados de treinamento, (trainReduzido.csv), tem 785 colunas. A primeira coluna, chamadalabelulo\", é o dígito que foi desenhado pelo usuário. O restante das colunas contém os valores de pixel da imagem associ\n",
    "ada.\n"
   ]
  },
  {
   "cell_type": "markdown",
   "id": "d5440847-5e98-454e-8cd6-21a42b6ad2bf",
   "metadata": {},
   "source": [
    "## Equipe\n",
    "\n",
    "Antônio Alberto Pereira de Oliveira\r\n",
    "\r\n",
    "Daniel Nogueira Junqueira\r\n",
    "\r\n",
    "Eduardo Silveira Cezar Fernandes\r\n",
    "\n",
    "\n"
   ]
  },
  {
   "cell_type": "code",
   "execution_count": 1,
   "id": "922bf3ef-a15a-4245-89b8-d9c84c0a0d5c",
   "metadata": {},
   "outputs": [],
   "source": [
    "import numpy as np\n",
    "import pandas as pd\n",
    "import matplotlib.pyplot as plt\n",
    "from sklearn.model_selection import train_test_split\n",
    "from tensorflow.keras.models import Sequential\n",
    "from tensorflow.keras.layers import Dense, Flatten\n",
    "from tensorflow.keras.utils import to_categorical\n",
    "\n",
    "from tensorflow.keras.layers import Dropout"
   ]
  },
  {
   "cell_type": "code",
   "execution_count": 30,
   "id": "a860144b-3159-4cde-b5fb-ab8a310cf24a",
   "metadata": {},
   "outputs": [],
   "source": [
    "# Carregar o conjunto de dados\n",
    "train_data = pd.read_csv(\"C:/Users/danie/tensorflowDemoJupyther/dados/trainReduzido.csv\")\n",
    "validation_data = pd.read_csv(\"C:/Users/danie/tensorflowDemoJupyther/dados/validacao.csv\")\n",
    "\n",
    "# Separar rótulos (y) e features (X) para os dados de treinamento\n",
    "X_train = train_data.drop(\"label\", axis=1)\n",
    "y_train = train_data[\"label\"]\n",
    "\n",
    "# Normalizar os valores dos pixels para o intervalo [0, 1]\n",
    "X_train = X_train.astype('float32') / 255\n",
    "\n",
    "# Transformar os rótulos em categorias (one-hot encoding)\n",
    "y_train = to_categorical(y_train, num_classes=10)\n",
    "\n",
    "# Dividir em conjuntos de treinamento e validação\n",
    "X_train, X_val, y_train, y_val = train_test_split(X_train, y_train, test_size=0.2, random_state=42)\n"
   ]
  },
  {
   "cell_type": "code",
   "execution_count": 31,
   "id": "60c14d5e-d486-4326-8e41-6da9afb11233",
   "metadata": {},
   "outputs": [
    {
     "name": "stdout",
     "output_type": "stream",
     "text": [
      "Epoch 1/10\n",
      "326/326 [==============================] - 2s 3ms/step - loss: 0.9905 - accuracy: 0.7438 - val_loss: 0.1055 - val_accuracy: 0.9677\n",
      "Epoch 2/10\n",
      "326/326 [==============================] - 1s 2ms/step - loss: 0.1923 - accuracy: 0.9468 - val_loss: 0.0754 - val_accuracy: 0.9773\n",
      "Epoch 3/10\n",
      "326/326 [==============================] - 1s 2ms/step - loss: 0.1318 - accuracy: 0.9618 - val_loss: 0.0658 - val_accuracy: 0.9808\n",
      "Epoch 4/10\n",
      "326/326 [==============================] - 1s 2ms/step - loss: 0.1196 - accuracy: 0.9647 - val_loss: 0.0588 - val_accuracy: 0.9812\n",
      "Epoch 5/10\n",
      "326/326 [==============================] - 1s 2ms/step - loss: 0.0992 - accuracy: 0.9730 - val_loss: 0.0684 - val_accuracy: 0.9796\n",
      "Epoch 6/10\n",
      "326/326 [==============================] - 1s 2ms/step - loss: 0.0854 - accuracy: 0.9750 - val_loss: 0.0652 - val_accuracy: 0.9827\n",
      "Epoch 7/10\n",
      "326/326 [==============================] - 1s 2ms/step - loss: 0.0825 - accuracy: 0.9754 - val_loss: 0.0500 - val_accuracy: 0.9846\n",
      "Epoch 8/10\n",
      "326/326 [==============================] - 1s 2ms/step - loss: 0.0799 - accuracy: 0.9756 - val_loss: 0.0497 - val_accuracy: 0.9850\n",
      "Epoch 9/10\n",
      "326/326 [==============================] - 1s 2ms/step - loss: 0.0678 - accuracy: 0.9806 - val_loss: 0.0517 - val_accuracy: 0.9843\n",
      "Epoch 10/10\n",
      "326/326 [==============================] - 1s 3ms/step - loss: 0.0674 - accuracy: 0.9799 - val_loss: 0.0486 - val_accuracy: 0.9866\n",
      "82/82 [==============================] - 0s 1ms/step - loss: 0.0486 - accuracy: 0.9866\n",
      "*** Resultados da Rede Neural ***\n",
      "Accuracy:  0.9865591526031494\n",
      "125/125 [==============================] - 0s 1ms/step\n"
     ]
    }
   ],
   "source": [
    "# Cria a rede neural\n",
    "def create_model():\n",
    "    model = Sequential([\n",
    "        Flatten(input_shape=(785,)),\n",
    "        Dense(128, activation='relu'),\n",
    "        Dropout(0.5),  # Adicionando Dropout para regularização\n",
    "        Dense(64, activation='relu'),\n",
    "        Dropout(0.5),  # Mais uma camada de Dropout\n",
    "        Dense(10, activation='softmax')  # Camada de saída para classificação multiclasse\n",
    "    ])\n",
    "    model.compile(optimizer='adam', loss='categorical_crossentropy', metrics=['accuracy'])\n",
    "    return model\n",
    "\n",
    "# Criar e treinar o modelo\n",
    "model = create_model()\n",
    "model.fit(X_train, y_train, epochs=10, batch_size=32, validation_data=(X_val, y_val), verbose=1)\n",
    "\n",
    "# Avaliar o modelo no conjunto de validação\n",
    "loss, accuracy_val = model.evaluate(X_val, y_val)\n",
    "print(\"*** Resultados da Rede Neural ***\")\n",
    "print(\"Accuracy: \", accuracy_val)\n",
    "\n",
    "# Fazer previsões no conjunto de competição\n",
    "X_competition = validation_data / 255\n",
    "predictions_competition = np.argmax(model.predict(X_competition), axis=-1)\n",
    "\n",
    "# Criar dataframe de submissão\n",
    "submission_df = pd.DataFrame({'ImageId': np.arange(1, len(predictions_competition) + 1), 'Label': predictions_competition})\n",
    "\n",
    "# Salvar o dataframe de submissão em um novo arquivo CSV\n",
    "submission_df.to_csv(\"sample_submission.csv\", index=False)"
   ]
  },
  {
   "cell_type": "code",
   "execution_count": 32,
   "id": "791f93e1-f34c-4576-9dbb-f8673f0edc4d",
   "metadata": {
    "scrolled": true
   },
   "outputs": [
    {
     "name": "stdout",
     "output_type": "stream",
     "text": [
      "1/1 [==============================] - 0s 62ms/step\n"
     ]
    },
    {
     "data": {
      "image/png": "[encoded data removed]",
      "text/plain": [
       "<Figure size 640x480 with 1 Axes>"
      ]
     },
     "metadata": {},
     "output_type": "display_data"
    }
   ],
   "source": [
    "\n",
    "# Escolha aleatória de um índice dos dados de validação\n",
    "indice = np.random.randint(0, len(X_val))\n",
    "\n",
    "# Seleciona a imagem e o rótulo correspondente\n",
    "imagem_com_rotulo = X_val.iloc[indice].to_numpy() # Converte para numpy array\n",
    "rotulo_verdadeiro = np.argmax(y_val[indice]) # Rótulo verdadeiro do dígito\n",
    "\n",
    "# Exclui o rótulo para ter apenas a imagem e redimensiona pra 28x28\n",
    "imagem = imagem_com_rotulo[1:].reshape(28, 28) \n",
    "\n",
    "# Previsão do modelo pra essa imagem\n",
    "previsao = model.predict(X_val.iloc[[indice]])[0]\n",
    "rotulo_previsto = np.argmax(previsao) # Rótulo previsto pela rede neural\n",
    "\n",
    "# Plot da imagem do dígito\n",
    "plt.imshow(imagem, cmap = 'gray')\n",
    "plt.title(f'Label Verdadeiro: {rotulo_verdadeiro}, Previsão da rede: {rotulo_previsto}')\n",
    "\n",
    "# Destaca se a previsão foi correta ou não\n",
    "if rotulo_previsto == rotulo_verdadeiro:\n",
    "    plt.xlabel('Previsão correta!', color = 'green')\n",
    "\n",
    "else:\n",
    "    plt.xlabel('Previsão errada!', color = 'red')\n",
    "\n",
    "plt.show()"
   ]
  },
  {
   "cell_type": "code",
   "execution_count": null,
   "id": "ccbd3c2f-52b6-45eb-b7e8-acecd68ddcd4",
   "metadata": {},
   "outputs": [],
   "source": []
  }
 ],
 "metadata": {
  "kernelspec": {
   "display_name": "Python 3 (ipykernel)",
   "language": "python",
   "name": "python3"
  },
  "language_info": {
   "codemirror_mode": {
    "name": "ipython",
    "version": 3
   },
   "file_extension": ".py",
   "mimetype": "text/x-python",
   "name": "python",
   "nbconvert_exporter": "python",
   "pygments_lexer": "ipython3",
   "version": "3.10.13"
  }
 },
 "nbformat": 4,
 "nbformat_minor": 5
}
