{
 "cells": [
  {
   "cell_type": "markdown",
   "id": "8ba26892-e628-4a76-899c-d172350a1dfa",
   "metadata": {},
   "source": [
    "# Trabalho final de Redes Neurais Artificiais"
   ]
  },
  {
   "cell_type": "markdown",
   "id": "0345fc17-61af-4b75-a99e-ee7215b06cf6",
   "metadata": {},
   "source": [
    "## Objetivos\n",
    "O objetivo do trabalho é resolver um problema de **Reconhecimento de Padrões** com base em um conjunto de dados disponiblizados pelo professor, tendo como inspiração a base de dados MNIST. Portanto, o foco é treinar um modelo que seja capaz de reconhecer os digítos manuscritos de 0 a 9 que contém nos conjuntos de treinamento e teste, detectando as imagens digitalizadas dos dígitos.\n",
    "\n",
    "**trainReduzido.csv** - conjunto de dados de treinamento da rede.\n",
    "\n",
    "**validacao.csv** - conjunto de dados para testar a rede no final de acordo com a previsão realizada.\n",
    "\n",
    "Os arquivos de dados trainReduzido.csv e validacao.csv contêm imagens em escala de cinza de dígitos desenhados à mão, de zero a nove.\n",
    "\n",
    "\n",
    "Cada imagem tem 28 pixels de altura e 28 pixels de largura, para um total de 784 pixels no total. Cada pixel tem um único valor de pixel associado a ele, indicando a claridade ou escuridão desse pixel, com números mais altos significando mais escuro. Este valor de pixel é um número inteiro entre 0 e 255, inclusive.\n",
    "\n",
    "O conjunto de dados de treinamento, (trainReduzido.csv), tem 785 colunas. A primeira coluna, chamada label, é o dígito que foi desenhado pelo usuário. O restante das colunas contém os valores de pixel da imagem associada.\n"
   ]
  },
  {
   "cell_type": "markdown",
   "id": "d5440847-5e98-454e-8cd6-21a42b6ad2bf",
   "metadata": {},
   "source": [
    "## Equipe\n",
    "\n",
    "Antônio Alberto Pereira de Oliveira - 2021086504\r\n",
    "\r\n",
    "Daniel Nogueira Junquei - 2021072244ra\r\n",
    "\r\n",
    "Eduardo Silveira Cezar Ferna - 2021019424ndes\r\n",
    "\n",
    "\n"
   ]
  },
  {
   "cell_type": "code",
   "execution_count": 2,
   "id": "922bf3ef-a15a-4245-89b8-d9c84c0a0d5c",
   "metadata": {},
   "outputs": [],
   "source": [
    "import numpy as np\n",
    "import pandas as pd\n",
    "import matplotlib.pyplot as plt\n",
    "from sklearn.model_selection import train_test_split\n",
    "from tensorflow.keras.models import Sequential\n",
    "from tensorflow.keras.layers import Dense, Flatten\n",
    "from tensorflow.keras.utils import to_categorical\n",
    "\n",
    "from tensorflow.keras.layers import Dropout"
   ]
  },
  {
   "cell_type": "code",
   "execution_count": 3,
   "id": "a860144b-3159-4cde-b5fb-ab8a310cf24a",
   "metadata": {},
   "outputs": [],
   "source": [
    "# Carregar o conjunto de dados\n",
    "train_data = pd.read_csv(\"C:/Users/danie/OneDrive/Desktop/RNA/rna/TP Final/MNIST Classifier/dados/trainReduzido.csv\")\n",
    "validation_data = pd.read_csv(\"C:/Users/danie/OneDrive/Desktop/RNA/rna/TP Final/MNIST Classifier/dados/validacao.csv\")\n",
    "\n",
    "# Separar rótulos (y) e features (X) para os dados de treinamento\n",
    "X_train = train_data.drop(\"label\", axis=1)\n",
    "y_train = train_data[\"label\"]\n",
    "\n",
    "# Normalizar os valores dos pixels para o intervalo [0, 1]\n",
    "X_train = X_train.astype('float32') / 255\n",
    "\n",
    "# Transformar os rótulos em categorias (one-hot encoding)\n",
    "y_train = to_categorical(y_train, num_classes=10)\n",
    "\n",
    "# Dividir em conjuntos de treinamento e validação\n",
    "X_train, X_val, y_train, y_val = train_test_split(X_train, y_train, test_size=0.2, random_state=42)\n"
   ]
  },
  {
   "cell_type": "markdown",
   "id": "5c29a965-09b2-4d20-ab36-a0b6d13ed2b9",
   "metadata": {},
   "source": [
    "## Modelo da Rede Neural\n",
    "Abaixo contém o modelo da rede neural, criada a partir da biblioteca Keras do TensorFlow.\n",
    "Utiliza como entrada 785 neurônios, e depois passa por uma camada com 128 neurônios com função de ativação reLU.\n",
    "\n",
    "Possui uma segunda camada oculta com 64 neurônios, também com função de ativação reLU.\n",
    "\n",
    "A camada de saída possui 10 neurônios, com função de ativação softmax.\n",
    "A função softmax transforma as saídas para cada classe para valores entre 0 e 1 e também divide pela soma das saídas.\n",
    "\n",
    "Durante o treinamento, usa a função de perda de entropia cruzada categórica, adequada para problemas de classificação multiclasse."
   ]
  },
  {
   "cell_type": "code",
   "execution_count": 4,
   "id": "60c14d5e-d486-4326-8e41-6da9afb11233",
   "metadata": {
    "scrolled": true
   },
   "outputs": [
    {
     "name": "stdout",
     "output_type": "stream",
     "text": [
      "Epoch 1/10\n",
      "326/326 [==============================] - 2s 4ms/step - loss: 1.2224 - accuracy: 0.7048 - val_loss: 0.1101 - val_accuracy: 0.9685\n",
      "Epoch 2/10\n",
      "326/326 [==============================] - 1s 3ms/step - loss: 0.2101 - accuracy: 0.9383 - val_loss: 0.0894 - val_accuracy: 0.9731\n",
      "Epoch 3/10\n",
      "326/326 [==============================] - 1s 3ms/step - loss: 0.1420 - accuracy: 0.9594 - val_loss: 0.0693 - val_accuracy: 0.9777\n",
      "Epoch 4/10\n",
      "326/326 [==============================] - 1s 3ms/step - loss: 0.1157 - accuracy: 0.9657 - val_loss: 0.0626 - val_accuracy: 0.9804\n",
      "Epoch 5/10\n",
      "326/326 [==============================] - 1s 3ms/step - loss: 0.1000 - accuracy: 0.9714 - val_loss: 0.0600 - val_accuracy: 0.9804\n",
      "Epoch 6/10\n",
      "326/326 [==============================] - 1s 3ms/step - loss: 0.0948 - accuracy: 0.9720 - val_loss: 0.0570 - val_accuracy: 0.9831\n",
      "Epoch 7/10\n",
      "326/326 [==============================] - 1s 3ms/step - loss: 0.0826 - accuracy: 0.9757 - val_loss: 0.0542 - val_accuracy: 0.9839\n",
      "Epoch 8/10\n",
      "326/326 [==============================] - 1s 3ms/step - loss: 0.0728 - accuracy: 0.9800 - val_loss: 0.0588 - val_accuracy: 0.9823\n",
      "Epoch 9/10\n",
      "326/326 [==============================] - 1s 3ms/step - loss: 0.0700 - accuracy: 0.9794 - val_loss: 0.0472 - val_accuracy: 0.9858\n",
      "Epoch 10/10\n",
      "326/326 [==============================] - 1s 3ms/step - loss: 0.0629 - accuracy: 0.9810 - val_loss: 0.0516 - val_accuracy: 0.9862\n",
      "82/82 [==============================] - 0s 2ms/step - loss: 0.0516 - accuracy: 0.9862\n",
      "*** Resultados da Rede Neural ***\n",
      "Accuracy:  0.9861751198768616\n",
      "125/125 [==============================] - 0s 2ms/step\n"
     ]
    }
   ],
   "source": [
    "# Cria a rede neural\n",
    "def create_model():\n",
    "    model = Sequential([\n",
    "        Flatten(input_shape=(785,)),\n",
    "        Dense(128, activation='relu'),\n",
    "        Dropout(0.5),  # Adicionando Dropout para regularização\n",
    "        Dense(64, activation='relu'),\n",
    "        Dropout(0.5),  # Mais uma camada de Dropout\n",
    "        Dense(10, activation='softmax')  # Camada de saída para classificação multiclasse\n",
    "    ])\n",
    "    model.compile(optimizer='adam', loss='categorical_crossentropy', metrics=['accuracy'])\n",
    "    return model\n",
    "\n",
    "# Criar e treinar o modelo\n",
    "model = create_model()\n",
    "model.fit(X_train, y_train, epochs=10, batch_size=32, validation_data=(X_val, y_val), verbose=1)\n",
    "\n",
    "# Avaliar o modelo no conjunto de validação\n",
    "loss, accuracy_val = model.evaluate(X_val, y_val)\n",
    "print(\"*** Resultados da Rede Neural ***\")\n",
    "print(\"Accuracy: \", accuracy_val)\n",
    "\n",
    "# Fazer previsões no conjunto de competição\n",
    "X_competition = validation_data / 255\n",
    "predictions_competition = np.argmax(model.predict(X_competition), axis=-1)\n",
    "\n",
    "# Criar dataframe de submissão\n",
    "submission_df = pd.DataFrame({'ImageId': np.arange(1, len(predictions_competition) + 1), 'Label': predictions_competition})\n",
    "\n",
    "# Salvar o dataframe de submissão em um novo arquivo CSV\n",
    "submission_df.to_csv(\"sample_submission.csv\", index=False)"
   ]
  },
  {
   "cell_type": "code",
   "execution_count": 6,
   "id": "791f93e1-f34c-4576-9dbb-f8673f0edc4d",
   "metadata": {
    "scrolled": true
   },
   "outputs": [
    {
     "name": "stdout",
     "output_type": "stream",
     "text": [
      "1/1 [==============================] - 0s 19ms/step\n"
     ]
    },
    {
     "data": {
      "image/png": "[encoded data removed]",
      "text/plain": [
       "<Figure size 640x480 with 1 Axes>"
      ]
     },
     "metadata": {},
     "output_type": "display_data"
    }
   ],
   "source": [
    "\n",
    "# Escolha aleatória de um índice dos dados de validação\n",
    "indice = np.random.randint(0, len(X_val))\n",
    "\n",
    "# Seleciona a imagem e o rótulo correspondente\n",
    "imagem_com_rotulo = X_val.iloc[indice].to_numpy() # Converte para numpy array\n",
    "rotulo_verdadeiro = np.argmax(y_val[indice]) # Rótulo verdadeiro do dígito\n",
    "\n",
    "# Exclui o rótulo para ter apenas a imagem e redimensiona pra 28x28\n",
    "imagem = imagem_com_rotulo[1:].reshape(28, 28) \n",
    "\n",
    "# Previsão do modelo pra essa imagem\n",
    "previsao = model.predict(X_val.iloc[[indice]])[0]\n",
    "rotulo_previsto = np.argmax(previsao) # Rótulo previsto pela rede neural\n",
    "\n",
    "# Plot da imagem do dígito\n",
    "plt.imshow(imagem, cmap = 'gray')\n",
    "plt.title(f'Label Verdadeiro: {rotulo_verdadeiro}, Previsão da rede: {rotulo_previsto}')\n",
    "\n",
    "# Destaca se a previsão foi correta ou não\n",
    "if rotulo_previsto == rotulo_verdadeiro:\n",
    "    plt.xlabel('Previsão correta!', color = 'green')\n",
    "\n",
    "else:\n",
    "    plt.xlabel('Previsão errada!', color = 'red')\n",
    "\n",
    "plt.show()"
   ]
  }
 ],
 "metadata": {
  "kernelspec": {
   "display_name": "Python 3 (ipykernel)",
   "language": "python",
   "name": "python3"
  },
  "language_info": {
   "codemirror_mode": {
    "name": "ipython",
    "version": 3
   },
   "file_extension": ".py",
   "mimetype": "text/x-python",
   "name": "python",
   "nbconvert_exporter": "python",
   "pygments_lexer": "ipython3",
   "version": "3.10.13"
  }
 },
 "nbformat": 4,
 "nbformat_minor": 5
}
